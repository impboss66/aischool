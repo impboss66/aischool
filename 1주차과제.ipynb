{
  "nbformat": 4,
  "nbformat_minor": 0,
  "metadata": {
    "colab": {
      "name": "Untitled0.ipynb",
      "provenance": [],
      "authorship_tag": "ABX9TyNDiObTU4AxQehVGkECeuzH",
      "include_colab_link": true
    },
    "kernelspec": {
      "name": "python3",
      "display_name": "Python 3"
    }
  },
  "cells": [
    {
      "cell_type": "markdown",
      "metadata": {
        "id": "view-in-github",
        "colab_type": "text"
      },
      "source": [
        "<a href=\"https://colab.research.google.com/github/jjkim0816/aischool/blob/master/1%EC%A3%BC%EC%B0%A8%EA%B3%BC%EC%A0%9C.ipynb\" target=\"_parent\"><img src=\"https://colab.research.google.com/assets/colab-badge.svg\" alt=\"Open In Colab\"/></a>"
      ]
    },
    {
      "cell_type": "markdown",
      "metadata": {
        "id": "wiRwJHdxSCe-",
        "colab_type": "text"
      },
      "source": [
        "#1주차 과제\n",
        "1. 제품 및 서비스\n",
        "* 언어\n",
        "> 제품&nbsp;&nbsp;&nbsp;&nbsp;&nbsp;: Google Translation<br/>\n",
        "> 서비스 : Translation API는 선행 학습된 모델을 사용하여 텍스트를 즉시 웹사이트와 앱으로 포팅하여 빠른 동적 번역 제공.<br/>\n",
        "*  음성\n",
        "> 제품&nbsp;&nbsp;&nbsp;&nbsp;&nbsp;:  Google Assistance<br/>\n",
        "> 서비스 : 순환 신경망(RNN) 발전을 기반으로 완전히 새로운 음성 인식과 자연어 처리 모델을 만들었다.<br/>\n",
        "&nbsp;&nbsp;&nbsp;&nbsp;&nbsp;&nbsp;&nbsp;&nbsp;&nbsp;&nbsp;&nbsp;&nbsp;&nbsp;&nbsp;&nbsp;온디바이스 방식으로 작동하여 사용자 요청에 대해 10배 빠르게 응답이 가능.\n",
        "* 이미지\n",
        "> 제품&nbsp;&nbsp;&nbsp;&nbsp;&nbsp;: Google Vision AI<br/>\n",
        "> 서비스 : 선행 학습된 강력한 Vision API 모델을 이용하여 이미지를 수전 가지 카테고리로 빠르게 분류하고 개별 객체, 얼굴, &nbsp;&nbsp;&nbsp;&nbsp;&nbsp;&nbsp;&nbsp;&nbsp;&nbsp;&nbsp;&nbsp;&nbsp;&nbsp;&nbsp;&nbsp;단어를 인식.<br/>\n",
        "* 자율주행 \n",
        "> 제품&nbsp;&nbsp;&nbsp;&nbsp;&nbsp;: 라이다<br/>\n",
        "> 서비스 : 레이저를 이용해서 #D로 주의를 인식하는 라이다<br />\n",
        "&nbsp;&nbsp;&nbsp;&nbsp;&nbsp;&nbsp;&nbsp;&nbsp;&nbsp;&nbsp;&nbsp;&nbsp;&nbsp;&nbsp;&nbsp;센서는 연구용 자율주행 차량에 자율주행핵심 센서로 쓰이고 있다.<br/>\n",
        "&nbsp;&nbsp;&nbsp;&nbsp;&nbsp;&nbsp;&nbsp;&nbsp;&nbsp;&nbsp;&nbsp;&nbsp;&nbsp;&nbsp;&nbsp;비싼 가격과 날씨 조건에 약한 특성이 있다는 단점이 있어 현재 아우디 일부 차량에만 상용화 되어 있다.\n",
        "\n"
      ]
    }
  ]
}