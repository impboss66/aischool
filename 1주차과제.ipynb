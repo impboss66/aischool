{
  "nbformat": 4,
  "nbformat_minor": 0,
  "metadata": {
    "colab": {
      "name": "Untitled0.ipynb",
      "provenance": [],
      "authorship_tag": "ABX9TyO9DABlaSMiyuISK7fSizmL",
      "include_colab_link": true
    },
    "kernelspec": {
      "name": "python3",
      "display_name": "Python 3"
    }
  },
  "cells": [
    {
      "cell_type": "markdown",
      "metadata": {
        "id": "view-in-github",
        "colab_type": "text"
      },
      "source": [
        "<a href=\"https://colab.research.google.com/github/jjkim0816/aischool/blob/master/1%EC%A3%BC%EC%B0%A8%EA%B3%BC%EC%A0%9C.ipynb\" target=\"_parent\"><img src=\"https://colab.research.google.com/assets/colab-badge.svg\" alt=\"Open In Colab\"/></a>"
      ]
    },
    {
      "cell_type": "markdown",
      "metadata": {
        "id": "wiRwJHdxSCe-",
        "colab_type": "text"
      },
      "source": [
        "#1주차 과제\n",
        "1. 제품 및 서비스\n",
        "* 언어\n",
        "> 제품&nbsp;&nbsp;&nbsp;&nbsp;&nbsp;: 0000<br/>\n",
        "> 서비스 : 1111<br/>\n",
        "*  음성\n",
        "> 제품&nbsp;&nbsp;&nbsp;&nbsp;&nbsp;:  2222<br/>\n",
        "> 서비스 : 3333<br/>\n",
        "* 이미지\n",
        "> 제품&nbsp;&nbsp;&nbsp;&nbsp;&nbsp;: 4444<br/>\n",
        "> 서비스 : 5555<br/>\n",
        "* 자율주행 \n",
        "> 제품&nbsp;&nbsp;&nbsp;&nbsp;&nbsp;: 6666<br/>\n",
        "> 서비스 : 77747<br/>\n",
        "\n"
      ]
    }
  ]
}